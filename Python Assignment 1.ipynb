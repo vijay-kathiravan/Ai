{
 "cells": [
  {
   "cell_type": "code",
   "execution_count": 33,
   "id": "3e9848f5",
   "metadata": {},
   "outputs": [
    {
     "name": "stdout",
     "output_type": "stream",
     "text": [
      "d. None of the above\n"
     ]
    }
   ],
   "source": [
    "#Q1. Using Python script as a calculator\n",
    "# Create the variables n, r, p and assign them values 10, 5, and 100 respectively. Then\n",
    "# evaluate the following expression in the Python console.\n",
    "# 𝐴 = 𝑝 (1 + 𝑟/ 100)n\n",
    "# a. 100\n",
    "# b. 162.89\n",
    "# c. 189\n",
    "# d. None of the above\n",
    "\n",
    "n = 10\n",
    "r = 5\n",
    "p = 100\n",
    "\n",
    "# A = p*(1+(r/100))* n\n",
    "# print(A)\n",
    "\n",
    "print('d. None of the above')\n",
    "\n"
   ]
  },
  {
   "cell_type": "code",
   "execution_count": 32,
   "id": "0ada7fc3",
   "metadata": {},
   "outputs": [
    {
     "name": "stdout",
     "output_type": "stream",
     "text": [
      "c. print(string.format(b,a))\n"
     ]
    }
   ],
   "source": [
    "# Q2. In a given string format operation, how will you print the given string.\n",
    "# A = 10\n",
    "# B = 20\n",
    "# Str = \"There are {} students in the class, with {} who play at least one sport.\"\n",
    "# a. print(string.format(a,b))\n",
    "# b. print(string+a+b)\n",
    "# ------------------------c. print(string.format(b,a))\n",
    "# d. None of the above\n",
    "\n",
    "A = 10\n",
    "B = 20\n",
    "\n",
    "# print('There are {} students in the class, with {} who play at least one sport'.format(B,A))\n",
    "print('c. print(string.format(b,a))')"
   ]
  },
  {
   "cell_type": "code",
   "execution_count": 30,
   "id": "da5071ea",
   "metadata": {},
   "outputs": [
    {
     "name": "stdout",
     "output_type": "stream",
     "text": [
      "a. print(“It goes without saying, \\“Time is Money\\”, and none can deny it.”)\n"
     ]
    }
   ],
   "source": [
    "# Q3. In a given sample string, How do you print a double quoted string in between a\n",
    "# regular\n",
    "# string using the escape character?\n",
    "# Sample output = It goes without saying, “Time is Money”, and none can deny it.\n",
    "# -----------------------a. print(“It goes without saying, \\“Time is Money\\”, and none can deny it.”)\n",
    "# b. print(“It goes without saying, \\Time is Money\\, and none can deny it.”)\n",
    "# c. print(“It goes without saying” + “Time is Money” + “and none can deny it.”)\n",
    "# d. None of the above.\n",
    "\n",
    "# print(\"It goes without saying, \\\"Time is Money\\\", and none can deny it.\")\n",
    "print('a. print(“It goes without saying, \\“Time is Money\\”, and none can deny it.”)')"
   ]
  },
  {
   "cell_type": "code",
   "execution_count": 34,
   "id": "a71edaa5",
   "metadata": {},
   "outputs": [
    {
     "name": "stdout",
     "output_type": "stream",
     "text": [
      "b. 3\n"
     ]
    }
   ],
   "source": [
    "# Q4. What will be the output of the following code?\n",
    "# x = lambda a,b: a//b\n",
    "# x(10,3)\n",
    "# a. 3.3333333333\n",
    "# b. 3\n",
    "# c. 30\n",
    "# d. 1000\n",
    "\n",
    "# x = lambda a,b : a//b\n",
    "# print(x(10,3))\n",
    "print('b. 3')"
   ]
  },
  {
   "cell_type": "code",
   "execution_count": 28,
   "id": "4d251a26",
   "metadata": {},
   "outputs": [
    {
     "name": "stdout",
     "output_type": "stream",
     "text": [
      "c. Greater\n"
     ]
    }
   ],
   "source": [
    "# Q5. What will be the output of the following code?\n",
    "# A = 10\n",
    "# B = 12\n",
    "# print(\"Smaller\") if A == B else print(\"Greater\") if A < B else print(\"True\")\n",
    "# a. True\n",
    "# b. Smaller\n",
    "# c. Greater\n",
    "# d. None of the above\n",
    "\n",
    "# print(\"Smaller\") if A == B else print(\"Greater\") if A < B else print(\"True\")\n",
    "print('c. Greater')"
   ]
  },
  {
   "cell_type": "code",
   "execution_count": 27,
   "id": "94f6c6a4",
   "metadata": {},
   "outputs": [
    {
     "name": "stdout",
     "output_type": "stream",
     "text": [
      "d. None of the above\n"
     ]
    }
   ],
   "source": [
    "# Q6. What will be the output of the following code?\n",
    "# a. [2 7 3 5 4 6]\n",
    "# b. TypeError\n",
    "# c. NameError: name 'numpy' is not defined\n",
    "print('d. None of the above')"
   ]
  },
  {
   "cell_type": "code",
   "execution_count": 37,
   "id": "bdf27b90",
   "metadata": {},
   "outputs": [
    {
     "name": "stdout",
     "output_type": "stream",
     "text": [
      "d. string[slice(8,13,1)]\n"
     ]
    }
   ],
   "source": [
    "# Q7. Create a string called ‘string’ with the value as “Machine Learning”. Which code(s)\n",
    "# is/are appropriate to slice the substring “Learn”?\n",
    "# a. string[slice(13,8,1)]\n",
    "# b. string[slice(1,8,1)]\n",
    "# c. string[8:14]\n",
    "# d. string[slice(8,13,1)]\n",
    "\n",
    "# string = 'Machine Learning'\n",
    "# sti = string[slice(8,13,1)]\n",
    "print('d. string[slice(8,13,1)]')"
   ]
  },
  {
   "cell_type": "code",
   "execution_count": 2,
   "id": "739f0f93",
   "metadata": {},
   "outputs": [
    {
     "name": "stdout",
     "output_type": "stream",
     "text": [
      "b. 2\n"
     ]
    }
   ],
   "source": [
    "# Q8. Create a sequence of numbers from 10 to 25 and increment by 4. What is the index\n",
    "# of the\n",
    "# value 18?\n",
    "# a. 3\n",
    "# b. 2\n",
    "# c. 0\n",
    "# d. 1\n",
    "\n",
    "print('b. 2')"
   ]
  },
  {
   "cell_type": "code",
   "execution_count": 3,
   "id": "045d89e4",
   "metadata": {},
   "outputs": [
    {
     "name": "stdout",
     "output_type": "stream",
     "text": [
      "a. num1 = num2\n"
     ]
    }
   ],
   "source": [
    "# Q9. Which of the following is true with respect to the below codes?\n",
    "# a. num1 = num2\n",
    "# b. num1 ≠ num2\n",
    "# c. num1 < num2\n",
    "# d. num1 > num2\n",
    "\n",
    "print('a. num1 = num2')"
   ]
  },
  {
   "cell_type": "code",
   "execution_count": 4,
   "id": "af72eae1",
   "metadata": {},
   "outputs": [
    {
     "name": "stdout",
     "output_type": "stream",
     "text": [
      "a. Trying to access a variable which has not been defined\n"
     ]
    }
   ],
   "source": [
    "# Q10.A Python NameError exception is raised when: -\n",
    "# a. Trying to access a variable which has not been defined\n",
    "# b. Trying to access a key in a dictionary that does not exist\n",
    "# c. Accessing a column with misspelled column name\n",
    "# d. Accessing the function from a module that has not been imported\n",
    "\n",
    "print('a. Trying to access a variable which has not been defined')"
   ]
  },
  {
   "cell_type": "code",
   "execution_count": 5,
   "id": "4d5bab25",
   "metadata": {},
   "outputs": [
    {
     "name": "stdout",
     "output_type": "stream",
     "text": [
      "c. ValueError\n"
     ]
    }
   ],
   "source": [
    "# Q11.What type of exception will be raised for the code given below?\n",
    "# a. NameError\n",
    "# b. KeyError\n",
    "# c. ValueError\n",
    "# d. AttributeError\n",
    "\n",
    "print('c. ValueError')"
   ]
  },
  {
   "cell_type": "code",
   "execution_count": 6,
   "id": "c6e16187",
   "metadata": {},
   "outputs": [
    {
     "name": "stdout",
     "output_type": "stream",
     "text": [
      "b. A file or directory is requested but does not exist in the working directory\n"
     ]
    }
   ],
   "source": [
    "# Q12.A FileNotFoundError exception is raised by operating system errors when: -\n",
    "# a. Trying to create a file or directory which already exists\n",
    "# b. A file or directory is requested but does not exist in the working directory\n",
    "# c. Trying to run an operation without the adequate access rights\n",
    "# d. A directory operation, os.listdir() is requested on something which is not a\n",
    "# directory\n",
    "\n",
    "print('b. A file or directory is requested but does not exist in the working directory')"
   ]
  },
  {
   "cell_type": "code",
   "execution_count": 7,
   "id": "0b510590",
   "metadata": {},
   "outputs": [
    {
     "name": "stdout",
     "output_type": "stream",
     "text": [
      "<class 'str'>\n"
     ]
    }
   ],
   "source": [
    "# Q13.Consider a variable Z. The value of Z is \"ID-5632\". Data type of Z is: -\n",
    "# a. Complex\n",
    "# b. Character\n",
    "# c. Integer\n",
    "# d. Boolean\n",
    "\n",
    "z = \"ID-5632\"\n",
    "print(type(z))"
   ]
  },
  {
   "cell_type": "code",
   "execution_count": 9,
   "id": "ea842d4d",
   "metadata": {},
   "outputs": [
    {
     "name": "stdout",
     "output_type": "stream",
     "text": [
      "a. K= “4”\n",
      "c. L= “?”\n"
     ]
    }
   ],
   "source": [
    "# Q14.Which of the following variable(s) are character data type?\n",
    "# a. K= “4”\n",
    "# b. J= “Welcome”\n",
    "# c. L= “?”\n",
    "# d. All of the above\n",
    "\n",
    "print('a. K= “4”\\nc. L= “?”')"
   ]
  },
  {
   "cell_type": "code",
   "execution_count": 10,
   "id": "39d9db2e",
   "metadata": {},
   "outputs": [
    {
     "name": "stdout",
     "output_type": "stream",
     "text": [
      "b. “ ”\n",
      "d. #\n"
     ]
    }
   ],
   "source": [
    "# Q15.Choose the symbol/s that does not have the ability to convert any values to string?\n",
    "# a. ( )\n",
    "# b. “ ”\n",
    "# c. {}\n",
    "# d. #\n",
    "\n",
    "print('b. “ ”\\nd. #')"
   ]
  },
  {
   "cell_type": "code",
   "execution_count": 24,
   "id": "14825fd3",
   "metadata": {},
   "outputs": [
    {
     "name": "stdout",
     "output_type": "stream",
     "text": [
      "India Delhi\n",
      "China Beijing\n",
      "Japan Tokyo\n",
      "Quatar Doha\n",
      "France Paris\n"
     ]
    }
   ],
   "source": [
    "# Q16.Create a dictionary ‘Country’ that maps the following countries to their capitals\n",
    "# respectively:\n",
    "# Country India China Japan Qatar France\n",
    "# State Delhi Beijing Tokyo Doha Marseilles\n",
    "# Find 2 commands to replace “Marseilles” with “Paris” is:\n",
    "\n",
    "country = {'India':'Delhi','China':'Beijing','Japan':'Tokyo','Quatar':'Doha','France':'Marseilles'}\n",
    "country['France'] = 'Paris'\n",
    "country.popitem()\n",
    "country['France']='Paris'\n",
    "for i, j in country.items():\n",
    "    print(i,j)"
   ]
  },
  {
   "cell_type": "code",
   "execution_count": 30,
   "id": "269f7417",
   "metadata": {},
   "outputs": [
    {
     "name": "stdout",
     "output_type": "stream",
     "text": [
      "d. tuple_1[3] = 45\n"
     ]
    }
   ],
   "source": [
    "# Q17. Create the tuples given below\n",
    "# tuple_1 = (1,5,6,7,8)\n",
    "# tuple_2 = (8,9,4)\n",
    "# Identify which of the following code does not work on a tuple.\n",
    "# a. sum(tuple_1)\n",
    "# b. len(tuple_2)\n",
    "# c. tuple_2 + tuple_1\n",
    "# d. tuple_1[3] = 45\n",
    "\n",
    "print('d. tuple_1[3] = 45')"
   ]
  },
  {
   "cell_type": "code",
   "execution_count": 33,
   "id": "ec8c5b1f",
   "metadata": {},
   "outputs": [
    {
     "name": "stdout",
     "output_type": "stream",
     "text": [
      "6\n"
     ]
    }
   ],
   "source": [
    "# Q18. How many elements in the following data structure?\n",
    "print('6')"
   ]
  },
  {
   "cell_type": "code",
   "execution_count": 36,
   "id": "7b56c2f8",
   "metadata": {},
   "outputs": [
    {
     "name": "stdout",
     "output_type": "stream",
     "text": [
      "[[3, 4, 5], [4, 3, 5], [5, 12, 13], [6, 8, 10], [7, 24, 25], [8, 6, 10], [8, 15, 17], [9, 12, 15], [9, 40, 41], [10, 24, 26], [12, 5, 13], [12, 9, 15], [12, 16, 20], [12, 35, 37], [15, 8, 17], [15, 20, 25], [15, 36, 39], [16, 12, 20], [16, 30, 34], [18, 24, 30], [20, 15, 25], [20, 21, 29], [21, 20, 29], [21, 28, 35], [24, 7, 25], [24, 10, 26], [24, 18, 30], [24, 32, 40], [28, 21, 35], [30, 16, 34], [32, 24, 40], [35, 12, 37], [36, 15, 39], [40, 9, 41]]\n"
     ]
    }
   ],
   "source": [
    "# Q19.Write a function which finds all pythagorean triplets of triangles whose sides are no greater than a natural number N.\n",
    "\n",
    "\n",
    "def pythtrip(N):\n",
    "    trip =[]\n",
    "    for i in range(1,N):\n",
    "        for j in range(1,N):\n",
    "            for k in range(1,N):\n",
    "                if i**2 + j**2==k**2:\n",
    "                    trip.append([i,j,k])\n",
    "    return trip\n",
    "\n",
    "give = pythtrip(45)\n",
    "print(give)\n",
    "                "
   ]
  }
 ],
 "metadata": {
  "kernelspec": {
   "display_name": "Python 3 (ipykernel)",
   "language": "python",
   "name": "python3"
  },
  "language_info": {
   "codemirror_mode": {
    "name": "ipython",
    "version": 3
   },
   "file_extension": ".py",
   "mimetype": "text/x-python",
   "name": "python",
   "nbconvert_exporter": "python",
   "pygments_lexer": "ipython3",
   "version": "3.9.12"
  }
 },
 "nbformat": 4,
 "nbformat_minor": 5
}
